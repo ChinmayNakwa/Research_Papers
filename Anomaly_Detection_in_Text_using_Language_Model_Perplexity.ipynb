{
  "nbformat": 4,
  "nbformat_minor": 0,
  "metadata": {
    "colab": {
      "provenance": [],
      "authorship_tag": "ABX9TyNfwDY/5aezuj1llrUD/OKl",
      "include_colab_link": true
    },
    "kernelspec": {
      "name": "python3",
      "display_name": "Python 3"
    },
    "language_info": {
      "name": "python"
    }
  },
  "cells": [
    {
      "cell_type": "markdown",
      "metadata": {
        "id": "view-in-github",
        "colab_type": "text"
      },
      "source": [
        "<a href=\"https://colab.research.google.com/github/ChinmayNakwa/Research_Papers/blob/main/Anomaly_Detection_in_Text_using_Language_Model_Perplexity.ipynb\" target=\"_parent\"><img src=\"https://colab.research.google.com/assets/colab-badge.svg\" alt=\"Open In Colab\"/></a>"
      ]
    },
    {
      "cell_type": "code",
      "execution_count": null,
      "metadata": {
        "id": "szfwQ7x4InUJ"
      },
      "outputs": [],
      "source": [
        "import tensorflow as tf\n",
        "from tensorflow.keras.layers import TextVectorization, Embedding, LSTM, Dense\n",
        "from tensorflow.keras.models import Sequential\n",
        "import numpy as np\n",
        "import pandas as pd\n",
        "from sklearn.datasets import fetch_20newsgroups\n",
        "import matplotlib.pyplot as plt\n",
        "import seaborn as sns"
      ]
    },
    {
      "cell_type": "code",
      "source": [
        "VOCAB_SIZE = 10000\n",
        "EMBEDDING_DIM = 128\n",
        "LSTM_UNITS = 256\n",
        "SEQUENCE_LENGTH = 50\n",
        "BATCH_SIZE = 64\n",
        "EPOCHS = 10"
      ],
      "metadata": {
        "id": "45AkAJYDJMiu"
      },
      "execution_count": null,
      "outputs": []
    },
    {
      "cell_type": "code",
      "source": [
        "IN_DOMAIN_CATEGORY = 'sci.space'\n",
        "OUT_OF_DOMAIN_CATEGORY = 'rec.sport.hockey'"
      ],
      "metadata": {
        "id": "4p9HfMkbJfsb"
      },
      "execution_count": null,
      "outputs": []
    },
    {
      "cell_type": "code",
      "source": [
        "in_domain_train = fetch_20newsgroups(\n",
        "    subset='train',\n",
        "    categories=[IN_DOMAIN_CATEGORY],\n",
        "    shuffle=True,\n",
        "    random_state=42,\n",
        "    remove=('headers', 'footers', 'quotes')\n",
        ")\n",
        "\n",
        "in_domain_test = fetch_20newsgroups(\n",
        "    subset='test',\n",
        "    categories=[IN_DOMAIN_CATEGORY],\n",
        "    shuffle=True,\n",
        "    random_state=42,\n",
        "    remove=('headers', 'footers', 'quotes')\n",
        ")\n",
        "\n",
        "out_of_domain_test = fetch_20newsgroups(\n",
        "    subset='test',\n",
        "    categories=[OUT_OF_DOMAIN_CATEGORY],\n",
        "    shuffle=True,\n",
        "    random_state=42,\n",
        "    remove=('headers', 'footers', 'quotes')\n",
        ")\n",
        "\n",
        "print(f\"Number of 'in-domain' training documents: {len(in_domain_train.data)}\")\n",
        "print(f\"Number of 'in-domain' test documents: {len(in_domain_test.data)}\")\n",
        "print(f\"Number of 'out-of-domain' test documents: {len(out_of_domain_test.data)}\")\n"
      ],
      "metadata": {
        "colab": {
          "base_uri": "https://localhost:8080/"
        },
        "id": "jvz5RTUuJpCm",
        "outputId": "f56b40c5-37e3-4af6-d123-27a14340044b"
      },
      "execution_count": null,
      "outputs": [
        {
          "output_type": "stream",
          "name": "stdout",
          "text": [
            "Number of 'in-domain' training documents: 593\n",
            "Number of 'in-domain' test documents: 394\n",
            "Number of 'out-of-domain' test documents: 399\n"
          ]
        }
      ]
    },
    {
      "cell_type": "code",
      "source": [
        "vectorize_layer = TextVectorization(\n",
        "    max_tokens=VOCAB_SIZE,\n",
        "    output_mode='int',\n",
        "    output_sequence_length=SEQUENCE_LENGTH + 1\n",
        ")"
      ],
      "metadata": {
        "id": "SdlY5GbeKbjS"
      },
      "execution_count": null,
      "outputs": []
    },
    {
      "cell_type": "code",
      "source": [
        "vectorize_layer.adapt(in_domain_train.data)"
      ],
      "metadata": {
        "id": "QQPYFvKhKyWB"
      },
      "execution_count": null,
      "outputs": []
    },
    {
      "cell_type": "code",
      "source": [
        "vectorize_layer"
      ],
      "metadata": {
        "colab": {
          "base_uri": "https://localhost:8080/"
        },
        "id": "15xcW-YqK4ei",
        "outputId": "f556c788-d614-4a54-a9b0-c339662878df"
      },
      "execution_count": null,
      "outputs": [
        {
          "output_type": "execute_result",
          "data": {
            "text/plain": [
              "<TextVectorization name=text_vectorization_5, built=False>"
            ]
          },
          "metadata": {},
          "execution_count": 99
        }
      ]
    },
    {
      "cell_type": "code",
      "source": [
        "len(vectorize_layer.get_vocabulary())"
      ],
      "metadata": {
        "colab": {
          "base_uri": "https://localhost:8080/"
        },
        "id": "Z7KbQ_ULK5vL",
        "outputId": "b3e95e93-29c4-4b48-f463-0edca9ae908f"
      },
      "execution_count": null,
      "outputs": [
        {
          "output_type": "execute_result",
          "data": {
            "text/plain": [
              "10000"
            ]
          },
          "metadata": {},
          "execution_count": 100
        }
      ]
    },
    {
      "cell_type": "code",
      "source": [
        "vectorize_layer.get_vocabulary()[:10]"
      ],
      "metadata": {
        "colab": {
          "base_uri": "https://localhost:8080/"
        },
        "id": "XPk15e-bLBZP",
        "outputId": "e6e0fee1-f88a-4b78-a220-add66fd22ccd"
      },
      "execution_count": null,
      "outputs": [
        {
          "output_type": "execute_result",
          "data": {
            "text/plain": [
              "['',\n",
              " '[UNK]',\n",
              " np.str_('the'),\n",
              " np.str_('of'),\n",
              " np.str_('to'),\n",
              " np.str_('and'),\n",
              " np.str_('a'),\n",
              " np.str_('in'),\n",
              " np.str_('is'),\n",
              " np.str_('for')]"
            ]
          },
          "metadata": {},
          "execution_count": 101
        }
      ]
    },
    {
      "cell_type": "code",
      "source": [
        "def create_lm_dataset(text_corpus, vectorize_layer, sequence_length, batch_size):\n",
        "  \"\"\"\n",
        "    Takes a list of text documents, vectorizes them, and creates a\n",
        "    batched tf.data.Dataset for language model training.\n",
        "  \"\"\"\n",
        "  all_text = \" \".join(text_corpus)\n",
        "  vectorized_text = vectorize_layer([all_text])[0]\n",
        "\n",
        "  dataset = tf.data.Dataset.from_tensor_slices(vectorized_text) # Creates a dataset object. Slices up the data and sends it parts\n",
        "  sequences = dataset.window(sequence_length + 1, shift=1, drop_remainder=True) # It definese the number of tokens, in this case 51\n",
        "\n",
        "  flat_sequences = sequences.flat_map(lambda window: window.batch(sequence_length + 1)) # Basically turns each window into a single tensor.\n",
        "                                                                                        # window.batch(51) consumes all the items in that mini-dataset and groups them into a single tensor of shape (51,).\n",
        "  def split_input_target(chunk):\n",
        "    input_text = chunk[:-1]\n",
        "    target_text = chunk[-1]\n",
        "    return input_text, target_text\n",
        "\n",
        "  lm_dataset = flat_sequences.map(split_input_target) # Divides the dataset into features and labels\n",
        "\n",
        "  batched_dataset = lm_dataset.shuffle(10000).batch(batch_size).prefetch(tf.data.AUTOTUNE)\n",
        "\n",
        "  return batched_dataset"
      ],
      "metadata": {
        "id": "mVx6hcpkLuQy"
      },
      "execution_count": null,
      "outputs": []
    },
    {
      "cell_type": "code",
      "source": [
        "train_dataset = create_lm_dataset(in_domain_train.data, vectorize_layer, SEQUENCE_LENGTH, BATCH_SIZE)"
      ],
      "metadata": {
        "id": "67p7HGQcNUI2"
      },
      "execution_count": null,
      "outputs": []
    },
    {
      "cell_type": "code",
      "source": [
        "for data in train_dataset.take(1):\n",
        "    print(data)"
      ],
      "metadata": {
        "colab": {
          "base_uri": "https://localhost:8080/"
        },
        "id": "iYbNrxxJQoX9",
        "outputId": "b9cba42b-79c8-4cbc-c652-04cfd3306fcd"
      },
      "execution_count": null,
      "outputs": [
        {
          "output_type": "stream",
          "name": "stdout",
          "text": [
            "(<tf.Tensor: shape=(1, 50), dtype=int64, numpy=\n",
            "array([[  84,   69,   64, 1611,  358,    4,   51, 2796,   62, 2613,    5,\n",
            "          98,   40,  358, 1434,   57,   12,   30, 3595,  255,  609,    2,\n",
            "         536,    3,    2,  411, 9821, 2629, 9595,  238,   69,  149, 5826,\n",
            "          79,    6,  142,  299,   12,    8,  223,   10,   37,   16, 1427,\n",
            "         536,  173,    5,   37,    2, 1162]])>, <tf.Tensor: shape=(1,), dtype=int64, numpy=array([1264])>)\n"
          ]
        }
      ]
    },
    {
      "cell_type": "code",
      "source": [
        "for inputs, labels in train_dataset.take(1):\n",
        "    print(\"\\nShape of input batch:\", inputs.shape)\n",
        "    print(\"Shape of label batch:\", labels.shape)"
      ],
      "metadata": {
        "colab": {
          "base_uri": "https://localhost:8080/"
        },
        "id": "YPHYfG9sQ3ee",
        "outputId": "3d291f8e-30a1-4436-dd6e-8245808f64e0"
      },
      "execution_count": null,
      "outputs": [
        {
          "output_type": "stream",
          "name": "stdout",
          "text": [
            "\n",
            "Shape of input batch: (1, 50)\n",
            "Shape of label batch: (1,)\n"
          ]
        }
      ]
    },
    {
      "cell_type": "code",
      "source": [
        "model = Sequential([\n",
        "    Embedding(VOCAB_SIZE, EMBEDDING_DIM, input_length=SEQUENCE_LENGTH),\n",
        "    LSTM(LSTM_UNITS, return_sequences=True),\n",
        "    LSTM(LSTM_UNITS),\n",
        "    Dense(VOCAB_SIZE)\n",
        "])"
      ],
      "metadata": {
        "colab": {
          "base_uri": "https://localhost:8080/"
        },
        "id": "7riwgW-_RJTs",
        "outputId": "4bc8e424-d0d5-46f0-fc15-3c35998d77af"
      },
      "execution_count": null,
      "outputs": [
        {
          "output_type": "stream",
          "name": "stderr",
          "text": [
            "/usr/local/lib/python3.11/dist-packages/keras/src/layers/core/embedding.py:90: UserWarning: Argument `input_length` is deprecated. Just remove it.\n",
            "  warnings.warn(\n"
          ]
        }
      ]
    },
    {
      "cell_type": "code",
      "source": [
        "model.compile(\n",
        "    optimizer='adam',\n",
        "    loss=tf.keras.losses.SparseCategoricalCrossentropy(from_logits=True)\n",
        ")"
      ],
      "metadata": {
        "id": "UkzDXCGDRecp"
      },
      "execution_count": null,
      "outputs": []
    },
    {
      "cell_type": "code",
      "source": [
        "model.build(input_shape=(None, 50))"
      ],
      "metadata": {
        "id": "BPQcOOvYTMyy"
      },
      "execution_count": null,
      "outputs": []
    },
    {
      "cell_type": "code",
      "source": [
        "model.summary()"
      ],
      "metadata": {
        "colab": {
          "base_uri": "https://localhost:8080/",
          "height": 257
        },
        "id": "ft6f4OjCR70g",
        "outputId": "390e4a56-d2fe-4f9c-cdc3-b4406818a7cd"
      },
      "execution_count": null,
      "outputs": [
        {
          "output_type": "display_data",
          "data": {
            "text/plain": [
              "\u001b[1mModel: \"sequential_11\"\u001b[0m\n"
            ],
            "text/html": [
              "<pre style=\"white-space:pre;overflow-x:auto;line-height:normal;font-family:Menlo,'DejaVu Sans Mono',consolas,'Courier New',monospace\"><span style=\"font-weight: bold\">Model: \"sequential_11\"</span>\n",
              "</pre>\n"
            ]
          },
          "metadata": {}
        },
        {
          "output_type": "display_data",
          "data": {
            "text/plain": [
              "┏━━━━━━━━━━━━━━━━━━━━━━━━━━━━━━━━━┳━━━━━━━━━━━━━━━━━━━━━━━━┳━━━━━━━━━━━━━━━┓\n",
              "┃\u001b[1m \u001b[0m\u001b[1mLayer (type)                   \u001b[0m\u001b[1m \u001b[0m┃\u001b[1m \u001b[0m\u001b[1mOutput Shape          \u001b[0m\u001b[1m \u001b[0m┃\u001b[1m \u001b[0m\u001b[1m      Param #\u001b[0m\u001b[1m \u001b[0m┃\n",
              "┡━━━━━━━━━━━━━━━━━━━━━━━━━━━━━━━━━╇━━━━━━━━━━━━━━━━━━━━━━━━╇━━━━━━━━━━━━━━━┩\n",
              "│ embedding_11 (\u001b[38;5;33mEmbedding\u001b[0m)        │ (\u001b[38;5;45mNone\u001b[0m, \u001b[38;5;34m50\u001b[0m, \u001b[38;5;34m128\u001b[0m)        │     \u001b[38;5;34m1,280,000\u001b[0m │\n",
              "├─────────────────────────────────┼────────────────────────┼───────────────┤\n",
              "│ lstm_22 (\u001b[38;5;33mLSTM\u001b[0m)                  │ (\u001b[38;5;45mNone\u001b[0m, \u001b[38;5;34m50\u001b[0m, \u001b[38;5;34m256\u001b[0m)        │       \u001b[38;5;34m394,240\u001b[0m │\n",
              "├─────────────────────────────────┼────────────────────────┼───────────────┤\n",
              "│ lstm_23 (\u001b[38;5;33mLSTM\u001b[0m)                  │ (\u001b[38;5;45mNone\u001b[0m, \u001b[38;5;34m256\u001b[0m)            │       \u001b[38;5;34m525,312\u001b[0m │\n",
              "├─────────────────────────────────┼────────────────────────┼───────────────┤\n",
              "│ dense_11 (\u001b[38;5;33mDense\u001b[0m)                │ (\u001b[38;5;45mNone\u001b[0m, \u001b[38;5;34m10000\u001b[0m)          │     \u001b[38;5;34m2,570,000\u001b[0m │\n",
              "└─────────────────────────────────┴────────────────────────┴───────────────┘\n"
            ],
            "text/html": [
              "<pre style=\"white-space:pre;overflow-x:auto;line-height:normal;font-family:Menlo,'DejaVu Sans Mono',consolas,'Courier New',monospace\">┏━━━━━━━━━━━━━━━━━━━━━━━━━━━━━━━━━┳━━━━━━━━━━━━━━━━━━━━━━━━┳━━━━━━━━━━━━━━━┓\n",
              "┃<span style=\"font-weight: bold\"> Layer (type)                    </span>┃<span style=\"font-weight: bold\"> Output Shape           </span>┃<span style=\"font-weight: bold\">       Param # </span>┃\n",
              "┡━━━━━━━━━━━━━━━━━━━━━━━━━━━━━━━━━╇━━━━━━━━━━━━━━━━━━━━━━━━╇━━━━━━━━━━━━━━━┩\n",
              "│ embedding_11 (<span style=\"color: #0087ff; text-decoration-color: #0087ff\">Embedding</span>)        │ (<span style=\"color: #00d7ff; text-decoration-color: #00d7ff\">None</span>, <span style=\"color: #00af00; text-decoration-color: #00af00\">50</span>, <span style=\"color: #00af00; text-decoration-color: #00af00\">128</span>)        │     <span style=\"color: #00af00; text-decoration-color: #00af00\">1,280,000</span> │\n",
              "├─────────────────────────────────┼────────────────────────┼───────────────┤\n",
              "│ lstm_22 (<span style=\"color: #0087ff; text-decoration-color: #0087ff\">LSTM</span>)                  │ (<span style=\"color: #00d7ff; text-decoration-color: #00d7ff\">None</span>, <span style=\"color: #00af00; text-decoration-color: #00af00\">50</span>, <span style=\"color: #00af00; text-decoration-color: #00af00\">256</span>)        │       <span style=\"color: #00af00; text-decoration-color: #00af00\">394,240</span> │\n",
              "├─────────────────────────────────┼────────────────────────┼───────────────┤\n",
              "│ lstm_23 (<span style=\"color: #0087ff; text-decoration-color: #0087ff\">LSTM</span>)                  │ (<span style=\"color: #00d7ff; text-decoration-color: #00d7ff\">None</span>, <span style=\"color: #00af00; text-decoration-color: #00af00\">256</span>)            │       <span style=\"color: #00af00; text-decoration-color: #00af00\">525,312</span> │\n",
              "├─────────────────────────────────┼────────────────────────┼───────────────┤\n",
              "│ dense_11 (<span style=\"color: #0087ff; text-decoration-color: #0087ff\">Dense</span>)                │ (<span style=\"color: #00d7ff; text-decoration-color: #00d7ff\">None</span>, <span style=\"color: #00af00; text-decoration-color: #00af00\">10000</span>)          │     <span style=\"color: #00af00; text-decoration-color: #00af00\">2,570,000</span> │\n",
              "└─────────────────────────────────┴────────────────────────┴───────────────┘\n",
              "</pre>\n"
            ]
          },
          "metadata": {}
        },
        {
          "output_type": "display_data",
          "data": {
            "text/plain": [
              "\u001b[1m Total params: \u001b[0m\u001b[38;5;34m4,769,552\u001b[0m (18.19 MB)\n"
            ],
            "text/html": [
              "<pre style=\"white-space:pre;overflow-x:auto;line-height:normal;font-family:Menlo,'DejaVu Sans Mono',consolas,'Courier New',monospace\"><span style=\"font-weight: bold\"> Total params: </span><span style=\"color: #00af00; text-decoration-color: #00af00\">4,769,552</span> (18.19 MB)\n",
              "</pre>\n"
            ]
          },
          "metadata": {}
        },
        {
          "output_type": "display_data",
          "data": {
            "text/plain": [
              "\u001b[1m Trainable params: \u001b[0m\u001b[38;5;34m4,769,552\u001b[0m (18.19 MB)\n"
            ],
            "text/html": [
              "<pre style=\"white-space:pre;overflow-x:auto;line-height:normal;font-family:Menlo,'DejaVu Sans Mono',consolas,'Courier New',monospace\"><span style=\"font-weight: bold\"> Trainable params: </span><span style=\"color: #00af00; text-decoration-color: #00af00\">4,769,552</span> (18.19 MB)\n",
              "</pre>\n"
            ]
          },
          "metadata": {}
        },
        {
          "output_type": "display_data",
          "data": {
            "text/plain": [
              "\u001b[1m Non-trainable params: \u001b[0m\u001b[38;5;34m0\u001b[0m (0.00 B)\n"
            ],
            "text/html": [
              "<pre style=\"white-space:pre;overflow-x:auto;line-height:normal;font-family:Menlo,'DejaVu Sans Mono',consolas,'Courier New',monospace\"><span style=\"font-weight: bold\"> Non-trainable params: </span><span style=\"color: #00af00; text-decoration-color: #00af00\">0</span> (0.00 B)\n",
              "</pre>\n"
            ]
          },
          "metadata": {}
        }
      ]
    },
    {
      "cell_type": "code",
      "source": [
        "histoty = model.fit(\n",
        "    train_dataset,\n",
        "    epochs=EPOCHS,\n",
        "    verbose=2\n",
        ")"
      ],
      "metadata": {
        "colab": {
          "base_uri": "https://localhost:8080/"
        },
        "id": "S_BkvDkTR8zh",
        "outputId": "ed1989cd-0962-4e3b-faaf-cdcfb9285ca8"
      },
      "execution_count": null,
      "outputs": [
        {
          "output_type": "stream",
          "name": "stdout",
          "text": [
            "Epoch 1/10\n",
            "1/1 - 4s - 4s/step - loss: 9.2097\n",
            "Epoch 2/10\n",
            "1/1 - 0s - 162ms/step - loss: 9.1937\n",
            "Epoch 3/10\n"
          ]
        },
        {
          "output_type": "stream",
          "name": "stderr",
          "text": [
            "/usr/local/lib/python3.11/dist-packages/keras/src/trainers/epoch_iterator.py:151: UserWarning: Your input ran out of data; interrupting training. Make sure that your dataset or generator can generate at least `steps_per_epoch * epochs` batches. You may need to use the `.repeat()` function when building your dataset.\n",
            "  self._interrupted_warning()\n"
          ]
        },
        {
          "output_type": "stream",
          "name": "stdout",
          "text": [
            "1/1 - 0s - 309ms/step - loss: 9.1712\n",
            "Epoch 4/10\n",
            "1/1 - 0s - 187ms/step - loss: 9.1242\n",
            "Epoch 5/10\n",
            "1/1 - 0s - 282ms/step - loss: 9.0025\n",
            "Epoch 6/10\n",
            "1/1 - 0s - 306ms/step - loss: 8.6122\n",
            "Epoch 7/10\n",
            "1/1 - 0s - 170ms/step - loss: 7.7524\n",
            "Epoch 8/10\n",
            "1/1 - 0s - 165ms/step - loss: 6.9601\n",
            "Epoch 9/10\n",
            "1/1 - 0s - 188ms/step - loss: 6.3571\n",
            "Epoch 10/10\n",
            "1/1 - 0s - 175ms/step - loss: 5.7494\n"
          ]
        }
      ]
    },
    {
      "cell_type": "code",
      "source": [
        "def calculate_perplexity(text_string, model, vectorize_layer, sequence_length):\n",
        "  \"\"\"\n",
        "    Calculates the perplexity of a given text string using the trained model.\n",
        "  \"\"\"\n",
        "  vectorized_text = vectorize_layer([text_string])[0]\n",
        "\n",
        "  if len(vectorized_text) <= sequence_length:\n",
        "    return np.inf # Assign infinite perplexity to very short texts\n",
        "\n",
        "  test_sequences = []\n",
        "  for i in range(len(vectorized_text) - sequence_length):\n",
        "    test_sequences.append(vectorized_text[i : i + sequence_length + 1])\n",
        "\n",
        "  if not test_sequences:\n",
        "    return np.inf\n",
        "\n",
        "  test_sequences = np.array(test_sequences)\n",
        "\n",
        "  inputs = test_sequences[:, :-1]  # All but last token in each sequence\n",
        "  labels = test_sequences[:, -1]\n",
        "\n",
        "\n",
        "\n",
        "  logits = model.predict(inputs, verbose = 0)\n",
        "\n",
        "  loss_fn = tf.keras.losses.SparseCategoricalCrossentropy(from_logits=True, reduction='none')\n",
        "  losses = loss_fn(labels, logits)\n",
        "\n",
        "  average_loss = np.mean(losses)\n",
        "  perplexity = np.exp(average_loss)\n",
        "\n",
        "  return perplexity"
      ],
      "metadata": {
        "id": "fST9QCYnSOUK"
      },
      "execution_count": null,
      "outputs": []
    },
    {
      "cell_type": "code",
      "source": [
        "print(\"\\nCalculating perplexity for test samples...\")\n",
        "\n",
        "SAMPLE_SIZE = 100\n",
        "in_domain_samples = in_domain_test.data[:SAMPLE_SIZE]\n",
        "out_of_domain_samples = out_of_domain_test.data[:SAMPLE_SIZE]\n",
        "\n",
        "in_domain_perplexities = [calculate_perplexity(text, model, vectorize_layer, SEQUENCE_LENGTH) for text in in_domain_samples]\n",
        "out_of_domain_perplexities = [calculate_perplexity(text, model, vectorize_layer, SEQUENCE_LENGTH) for text in out_of_domain_samples]\n",
        "\n",
        "df_in_domain = pd.DataFrame({'perplexity': in_domain_perplexities, 'label': IN_DOMAIN_CATEGORY})\n",
        "df_out_of_domain = pd.DataFrame({'perplexity': out_of_domain_perplexities, 'label': OUT_OF_DOMAIN_CATEGORY})\n",
        "\n",
        "results_df = pd.concat([df_in_domain, df_out_of_domain], ignore_index=True)\n"
      ],
      "metadata": {
        "colab": {
          "base_uri": "https://localhost:8080/"
        },
        "id": "70_ZNEONefxE",
        "outputId": "b6d8b667-a01f-4dd9-beed-cb81b254455f"
      },
      "execution_count": null,
      "outputs": [
        {
          "output_type": "stream",
          "name": "stdout",
          "text": [
            "\n",
            "Calculating perplexity for test samples...\n"
          ]
        }
      ]
    },
    {
      "cell_type": "code",
      "source": [
        "#Remove any infinite values for cleaner plotting\n",
        "results_df.replace([np.inf, -np.inf], np.nan, inplace=True)\n",
        "results_df.dropna(inplace=True)\n",
        "\n",
        "# --- Visualization ---\n",
        "plt.figure(figsize=(12, 7))\n",
        "sns.kdeplot(data=results_df, x='perplexity', hue='label', fill=True, common_norm=False)\n",
        "\n",
        "plt.title('Perplexity Distribution for In-Domain vs. Out-of-Domain Text', fontsize=16)\n",
        "plt.xlabel('Perplexity Score', fontsize=12)\n",
        "plt.ylabel('Density', fontsize=12)\n",
        "plt.xlim(0, results_df['perplexity'].quantile(0.95)) # Zoom in on the main distribution\n",
        "plt.grid(axis='y', linestyle='--', alpha=0.7)\n",
        "plt.show()\n",
        "\n",
        "# --- Conclusion ---\n",
        "print(\"\\n--- Analysis ---\")\n",
        "print(\"The plot above shows the distribution of perplexity scores.\")\n",
        "print(\"Observe that:\")\n",
        "print(f\"1. The '{IN_DOMAIN_CATEGORY}' (blue) curve is clustered at very low perplexity values. This means our model was not 'surprised' by this text, as expected.\")\n",
        "print(f\"2. The '{OUT_OF_DOMAIN_CATEGORY}' (orange) curve has much higher perplexity scores. This indicates the model found this text surprising and unfamiliar, correctly identifying it as an anomaly.\")\n",
        "print(\"\\nThis clear separation allows us to set a threshold (e.g., a perplexity of 100) to flag incoming text as anomalous.\")\n"
      ],
      "metadata": {
        "colab": {
          "base_uri": "https://localhost:8080/",
          "height": 566
        },
        "id": "h9QbBfYGejk2",
        "outputId": "cafd92c3-8ae0-456d-d852-d4340807d829"
      },
      "execution_count": null,
      "outputs": [
        {
          "output_type": "display_data",
          "data": {
            "text/plain": [
              "<Figure size 1200x700 with 1 Axes>"
            ],
            "image/png": "[encoded data removed]"
          },
          "metadata": {}
        },
        {
          "output_type": "stream",
          "name": "stdout",
          "text": [
            "\n",
            "--- Analysis ---\n",
            "The plot above shows the distribution of perplexity scores.\n",
            "Observe that:\n",
            "1. The 'sci.space' (blue) curve is clustered at very low perplexity values. This means our model was not 'surprised' by this text, as expected.\n",
            "2. The 'rec.sport.hockey' (orange) curve has much higher perplexity scores. This indicates the model found this text surprising and unfamiliar, correctly identifying it as an anomaly.\n",
            "\n",
            "This clear separation allows us to set a threshold (e.g., a perplexity of 100) to flag incoming text as anomalous.\n"
          ]
        }
      ]
    },
    {
      "cell_type": "code",
      "source": [],
      "metadata": {
        "id": "aMLycNthgqIc"
      },
      "execution_count": null,
      "outputs": []
    }
  ]
}